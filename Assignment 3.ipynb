{
 "cells": [
  {
   "cell_type": "code",
   "execution_count": 1,
   "id": "f8bb5e00-dedd-4555-bfbf-3043b847dcb7",
   "metadata": {},
   "outputs": [],
   "source": [
    "#FOR LOOP"
   ]
  },
  {
   "cell_type": "code",
   "execution_count": 2,
   "id": "04a19a67-cd83-4b79-9487-7c4bb882b3fe",
   "metadata": {
    "tags": []
   },
   "outputs": [],
   "source": [
    "#ASSIGNMENT QUESTION"
   ]
  },
  {
   "cell_type": "code",
   "execution_count": 3,
   "id": "80635287-a7bd-457f-b317-3c61bf4db67c",
   "metadata": {
    "tags": []
   },
   "outputs": [],
   "source": [
    "#BASIC LEVEL"
   ]
  },
  {
   "cell_type": "code",
   "execution_count": 4,
   "id": "417344d0-d5a2-476d-be29-7165a269d6fa",
   "metadata": {
    "tags": []
   },
   "outputs": [],
   "source": [
    "#QUESTION 1"
   ]
  },
  {
   "cell_type": "code",
   "execution_count": 5,
   "id": "fbec8d01-9c74-4487-9ff0-05f0cbbb3c0e",
   "metadata": {
    "tags": []
   },
   "outputs": [],
   "source": [
    "#WRITE A PYTHON PROGRAM TO PRINT THE NUMBER FROM 1 TO 10 USING A 'FOR' LOOP"
   ]
  },
  {
   "cell_type": "code",
   "execution_count": 6,
   "id": "8a66a6f2-9b85-4c6a-9d7a-d760ce22a65a",
   "metadata": {
    "tags": []
   },
   "outputs": [
    {
     "name": "stdout",
     "output_type": "stream",
     "text": [
      "1\n",
      "2\n",
      "3\n",
      "4\n",
      "5\n",
      "6\n",
      "7\n",
      "8\n",
      "9\n",
      "10\n"
     ]
    }
   ],
   "source": [
    "for num in range(1,11):\n",
    "    print(num)"
   ]
  },
  {
   "cell_type": "code",
   "execution_count": null,
   "id": "61fa70a2-8211-4c81-ae12-e99f36d4b963",
   "metadata": {},
   "outputs": [],
   "source": []
  },
  {
   "cell_type": "code",
   "execution_count": null,
   "id": "d003c059-368e-4f94-bbca-b43e42f14c54",
   "metadata": {},
   "outputs": [],
   "source": []
  },
  {
   "cell_type": "code",
   "execution_count": 7,
   "id": "73745527-0d92-4202-86b1-bf07fb0af39e",
   "metadata": {
    "tags": []
   },
   "outputs": [],
   "source": [
    "#QUESTION 2"
   ]
  },
  {
   "cell_type": "code",
   "execution_count": 8,
   "id": "5962720b-a158-4cc6-9f71-18f60d0720c5",
   "metadata": {
    "tags": []
   },
   "outputs": [],
   "source": [
    "#CREATE A PROGRAM THAT CALCULATES THE SUM OF ALL NUMBERS IN A LIST USING A 'FOR' LOOP"
   ]
  },
  {
   "cell_type": "code",
   "execution_count": 10,
   "id": "2073fb4b-742d-429d-8343-111451aa488e",
   "metadata": {
    "tags": []
   },
   "outputs": [
    {
     "name": "stdout",
     "output_type": "stream",
     "text": [
      "The sum of the numbers is: 1\n",
      "The sum of the numbers is: 3\n",
      "The sum of the numbers is: 6\n",
      "The sum of the numbers is: 10\n",
      "The sum of the numbers is: 15\n"
     ]
    }
   ],
   "source": [
    "numbers = [1,2,3,4,5]\n",
    "sum = 0\n",
    "for num in numbers:\n",
    "    sum+=num\n",
    "    print(\"The sum of the numbers is:\",sum)"
   ]
  },
  {
   "cell_type": "code",
   "execution_count": null,
   "id": "9f278f57-4039-4852-b282-3e142aa90617",
   "metadata": {},
   "outputs": [],
   "source": []
  },
  {
   "cell_type": "code",
   "execution_count": null,
   "id": "1c997dd9-41f2-4778-9b5a-b2a906b27d69",
   "metadata": {},
   "outputs": [],
   "source": []
  },
  {
   "cell_type": "code",
   "execution_count": 11,
   "id": "24898eee-2bcb-41c7-9f4d-0d4a4181a162",
   "metadata": {
    "tags": []
   },
   "outputs": [],
   "source": [
    "#QUESTION 3"
   ]
  },
  {
   "cell_type": "code",
   "execution_count": 12,
   "id": "c79e3caf-eddb-4710-9e41-7d6097780505",
   "metadata": {
    "tags": []
   },
   "outputs": [],
   "source": [
    "#WRITE A PROGRAM TO PRINT THE CHARACTERS OF A STRING IN REVERSE ORDER USING A 'FOR' LOOP"
   ]
  },
  {
   "cell_type": "code",
   "execution_count": 15,
   "id": "a2e51069-6a12-41c8-8227-707d6df1b514",
   "metadata": {
    "tags": []
   },
   "outputs": [
    {
     "name": "stdout",
     "output_type": "stream",
     "text": [
      "!\n",
      "d\n",
      "l\n",
      "r\n",
      "o\n",
      "W\n",
      " \n",
      ",\n",
      "o\n",
      "l\n",
      "l\n",
      "e\n",
      "H\n"
     ]
    }
   ],
   "source": [
    "my_string = \"Hello, World!\"\n",
    "for char in reversed(my_string):\n",
    "    print(char)"
   ]
  },
  {
   "cell_type": "code",
   "execution_count": null,
   "id": "c099289f-1d40-4cfc-bfc0-deee42f5a33d",
   "metadata": {},
   "outputs": [],
   "source": []
  },
  {
   "cell_type": "code",
   "execution_count": null,
   "id": "899284c6-222c-4409-8e8f-0d08c2d4845e",
   "metadata": {},
   "outputs": [],
   "source": []
  },
  {
   "cell_type": "code",
   "execution_count": 16,
   "id": "849e2286-c98a-4337-9e03-d036b0864fd5",
   "metadata": {
    "tags": []
   },
   "outputs": [],
   "source": [
    "#QUESTION 4"
   ]
  },
  {
   "cell_type": "code",
   "execution_count": 17,
   "id": "352a821f-17b8-41bc-8dc0-055f75926d11",
   "metadata": {
    "tags": []
   },
   "outputs": [],
   "source": [
    "#DEVELOP A PROGRAM THAT FINDS THE FACTORIAL OF A GIVEN NUMBER USING A 'FOR' LOOP"
   ]
  },
  {
   "cell_type": "code",
   "execution_count": 19,
   "id": "cfde4a16-f238-4c62-823f-a9c8e2aab059",
   "metadata": {
    "tags": []
   },
   "outputs": [
    {
     "name": "stdin",
     "output_type": "stream",
     "text": [
      "Enter a number: 5\n"
     ]
    },
    {
     "name": "stdout",
     "output_type": "stream",
     "text": [
      "The factorial of 5 is: 1\n",
      "The factorial of 5 is: 2\n",
      "The factorial of 5 is: 6\n",
      "The factorial of 5 is: 24\n",
      "The factorial of 5 is: 120\n"
     ]
    }
   ],
   "source": [
    "num = int(input(\"Enter a number:\"))\n",
    "factorial = 1\n",
    "for i in range(1,num+1):\n",
    "    factorial*=i\n",
    "    print(\"The factorial of\",num,\"is:\",factorial)"
   ]
  },
  {
   "cell_type": "code",
   "execution_count": null,
   "id": "9de1a6db-4872-453f-9734-008d5ac7a151",
   "metadata": {},
   "outputs": [],
   "source": []
  },
  {
   "cell_type": "code",
   "execution_count": null,
   "id": "c6b8717e-f40b-4b7d-990b-28559e65db0c",
   "metadata": {},
   "outputs": [],
   "source": []
  },
  {
   "cell_type": "code",
   "execution_count": 20,
   "id": "f39189b7-24bb-45a6-9af4-f9a9110364c0",
   "metadata": {
    "tags": []
   },
   "outputs": [],
   "source": [
    "#QUESTION 5"
   ]
  },
  {
   "cell_type": "code",
   "execution_count": 21,
   "id": "d6ae5411-2967-4b21-83cf-e22680aec0f6",
   "metadata": {
    "tags": []
   },
   "outputs": [],
   "source": [
    "#CREATE A PROGRAM TO PRINT THE MULTIPLICATION TABLE OF A GIVEN NUMBER USING A 'FOR' LOOP"
   ]
  },
  {
   "cell_type": "code",
   "execution_count": 22,
   "id": "b8526331-1f26-4b05-a4ab-005154e1035c",
   "metadata": {
    "tags": []
   },
   "outputs": [
    {
     "name": "stdin",
     "output_type": "stream",
     "text": [
      "Enter a number: 5\n"
     ]
    },
    {
     "name": "stdout",
     "output_type": "stream",
     "text": [
      "Multiplication table of 5\n",
      "5 x 1 = 5\n",
      "5 x 2 = 10\n",
      "5 x 3 = 15\n",
      "5 x 4 = 20\n",
      "5 x 5 = 25\n",
      "5 x 6 = 30\n",
      "5 x 7 = 35\n",
      "5 x 8 = 40\n",
      "5 x 9 = 45\n",
      "5 x 10 = 50\n"
     ]
    }
   ],
   "source": [
    "num = int(input(\"Enter a number:\"))\n",
    "print(\"Multiplication table of\",num)\n",
    "for i in range(1,11):\n",
    "    print(num,\"x\",i,\"=\",num*i)"
   ]
  },
  {
   "cell_type": "code",
   "execution_count": null,
   "id": "02b0a674-2695-4e6f-8881-27b1c7b8b7ec",
   "metadata": {},
   "outputs": [],
   "source": []
  },
  {
   "cell_type": "code",
   "execution_count": null,
   "id": "98a9219f-ed1f-4a4d-ba32-1102c324f828",
   "metadata": {},
   "outputs": [],
   "source": []
  },
  {
   "cell_type": "code",
   "execution_count": 23,
   "id": "a4adf949-6cfc-42ba-ac41-f1874e7c0621",
   "metadata": {
    "tags": []
   },
   "outputs": [],
   "source": [
    "#QUESTION 6"
   ]
  },
  {
   "cell_type": "code",
   "execution_count": 24,
   "id": "4f449fb4-bed1-49f3-9de2-f3bd9db1812a",
   "metadata": {
    "tags": []
   },
   "outputs": [],
   "source": [
    "#WRITE A PROGRAM THAT COUNTS THE NUMBER OF EVEN AND ODD NUMBERS IN A LIST USING A 'FOR' LOOP"
   ]
  },
  {
   "cell_type": "code",
   "execution_count": 25,
   "id": "0c405ad1-c42a-403c-8d87-b1e5b016eedd",
   "metadata": {
    "tags": []
   },
   "outputs": [
    {
     "name": "stdout",
     "output_type": "stream",
     "text": [
      "Number of even numbers; 5\n",
      "Number of odd numbers: 2\n"
     ]
    }
   ],
   "source": [
    "numbers = [2,5,8,10,15,16,20]\n",
    "even_count = 0\n",
    "odd_count = 0\n",
    "for num in numbers:\n",
    "    if num%2 ==0:\n",
    "        even_count+=1\n",
    "    else:\n",
    "        odd_count+=1\n",
    "print(\"Number of even numbers;\",even_count)\n",
    "print(\"Number of odd numbers:\",odd_count)"
   ]
  },
  {
   "cell_type": "code",
   "execution_count": null,
   "id": "4f81c6d1-2a55-45ff-b842-eeeb4fa7d12a",
   "metadata": {},
   "outputs": [],
   "source": []
  },
  {
   "cell_type": "code",
   "execution_count": null,
   "id": "095130a1-5eab-438f-8f1d-a4340e3785a0",
   "metadata": {},
   "outputs": [],
   "source": []
  },
  {
   "cell_type": "code",
   "execution_count": 26,
   "id": "3da96361-fb49-44f4-930d-80c6e172c4d3",
   "metadata": {
    "tags": []
   },
   "outputs": [],
   "source": [
    "#QUESTION 7"
   ]
  },
  {
   "cell_type": "code",
   "execution_count": 27,
   "id": "8862c0dc-5e7f-4be2-811d-e0ac4948bc9e",
   "metadata": {
    "tags": []
   },
   "outputs": [],
   "source": [
    "#DEVELOP A PROGRAM THAT PRINTS THE SQUARES OF NUMBERS FROM 1 TO 5 USING A 'FOR' LOOP"
   ]
  },
  {
   "cell_type": "code",
   "execution_count": 28,
   "id": "666b1633-9b48-45d8-b046-5baa627de557",
   "metadata": {
    "tags": []
   },
   "outputs": [
    {
     "name": "stdout",
     "output_type": "stream",
     "text": [
      "The square of 1 is 1\n",
      "The square of 2 is 4\n",
      "The square of 3 is 9\n",
      "The square of 4 is 16\n",
      "The square of 5 is 25\n"
     ]
    }
   ],
   "source": [
    "for num in range(1,6):\n",
    "    square = num**2\n",
    "    print(\"The square of\",num,\"is\",square)"
   ]
  },
  {
   "cell_type": "code",
   "execution_count": null,
   "id": "68ad9821-e0f2-4e30-8dd5-8dc3caf25e20",
   "metadata": {},
   "outputs": [],
   "source": []
  },
  {
   "cell_type": "code",
   "execution_count": null,
   "id": "d8393d09-719d-4e9f-beac-0b44a4937897",
   "metadata": {},
   "outputs": [],
   "source": []
  },
  {
   "cell_type": "code",
   "execution_count": 29,
   "id": "0089c25d-1107-48ec-8e80-80019847882f",
   "metadata": {
    "tags": []
   },
   "outputs": [],
   "source": [
    "#QUESTION 8"
   ]
  },
  {
   "cell_type": "code",
   "execution_count": 30,
   "id": "a69d4b33-67af-4cca-bbae-d38df4f0db39",
   "metadata": {
    "tags": []
   },
   "outputs": [],
   "source": [
    "# CREATE A PROGRAM TO FIND THE LENGTH OF A STRING WITHOUT USING THE 'len()' FUNCTION"
   ]
  },
  {
   "cell_type": "code",
   "execution_count": 31,
   "id": "4079c868-1bf0-4ab0-8182-bd74aae906c0",
   "metadata": {
    "tags": []
   },
   "outputs": [
    {
     "name": "stdout",
     "output_type": "stream",
     "text": [
      "THe length of the string is: 13\n"
     ]
    }
   ],
   "source": [
    "def find_length(string):\n",
    "    count = 0\n",
    "    for char in string:\n",
    "        count += 1\n",
    "    return count\n",
    "input_string = \"Hello, world!\"\n",
    "length = find_length(input_string)\n",
    "print(\"THe length of the string is:\",length)\n"
   ]
  },
  {
   "cell_type": "code",
   "execution_count": null,
   "id": "85b270e7-1c85-491b-aeb5-a7aac3137481",
   "metadata": {},
   "outputs": [],
   "source": []
  },
  {
   "cell_type": "code",
   "execution_count": null,
   "id": "7dd239ff-f181-4078-ac4c-bc3ded10f6ef",
   "metadata": {},
   "outputs": [],
   "source": []
  },
  {
   "cell_type": "code",
   "execution_count": 32,
   "id": "d69e2967-ac6b-4afe-a507-b26a65434158",
   "metadata": {
    "tags": []
   },
   "outputs": [],
   "source": [
    "#QUESTION 9"
   ]
  },
  {
   "cell_type": "code",
   "execution_count": 33,
   "id": "29e56806-355e-465b-a027-9d8a9664fa8f",
   "metadata": {
    "tags": []
   },
   "outputs": [],
   "source": [
    "# WRITE A PROGRAM THAT CALCULATES THE AVERAGE OF A LIST OF NUMBERS USING A 'FOR' LOOP"
   ]
  },
  {
   "cell_type": "code",
   "execution_count": 39,
   "id": "f5aa1f06-6929-48ad-8fe4-6c2bdbdb08ce",
   "metadata": {
    "tags": []
   },
   "outputs": [
    {
     "name": "stdout",
     "output_type": "stream",
     "text": [
      "The average of the numbers is: 15.0\n"
     ]
    }
   ],
   "source": [
    "def calculate_average(numbers):\n",
    "    total = 0\n",
    "    count = 0\n",
    "    for num in numbers:\n",
    "        total+=num \n",
    "        count+=1\n",
    "    average=total/count\n",
    "    return average\n",
    "input_numbers = [5,10,15,20,25]\n",
    "avg = calculate_average(input_numbers)\n",
    "print(\"The average of the numbers is:\",avg)"
   ]
  },
  {
   "cell_type": "code",
   "execution_count": null,
   "id": "3ffd6560-f910-4916-898e-63eb8ff0fa9a",
   "metadata": {},
   "outputs": [],
   "source": []
  },
  {
   "cell_type": "code",
   "execution_count": null,
   "id": "b855f39e-9863-4174-8549-92a01f170e93",
   "metadata": {},
   "outputs": [],
   "source": []
  },
  {
   "cell_type": "code",
   "execution_count": 40,
   "id": "c6590858-c5c3-4181-a101-56a1ac5467c1",
   "metadata": {
    "tags": []
   },
   "outputs": [],
   "source": [
    "#QUESTION 10"
   ]
  },
  {
   "cell_type": "code",
   "execution_count": 41,
   "id": "2b02827e-acf0-4632-bf02-1316d3c8beed",
   "metadata": {
    "tags": []
   },
   "outputs": [],
   "source": [
    "# DEVELOP A PROGRAM THAT PRINTS THE FIRST 'N' FIBONACCI NUMBERS USING A 'FOR' LOOP"
   ]
  },
  {
   "cell_type": "code",
   "execution_count": 44,
   "id": "75f3eb5f-9bbb-4c91-b63f-e7085c3b24b7",
   "metadata": {
    "tags": []
   },
   "outputs": [
    {
     "name": "stdout",
     "output_type": "stream",
     "text": [
      "0\n",
      "1\n",
      "1\n",
      "2\n",
      "3\n",
      "5\n",
      "8\n",
      "13\n",
      "21\n",
      "34\n"
     ]
    }
   ],
   "source": [
    "def print_fibonacci(n):\n",
    "    fib_numbers = [0,1]\n",
    "    for i in range(2,n):\n",
    "        fib_numbers.append(fib_numbers[i-1]+fib_numbers[i-2])\n",
    "    for num in fib_numbers:\n",
    "        print(num)\n",
    "input_n = 10\n",
    "print_fibonacci(input_n)"
   ]
  },
  {
   "cell_type": "code",
   "execution_count": null,
   "id": "729bcc16-7e1a-4f0c-ae6e-4e2fd6b58609",
   "metadata": {},
   "outputs": [],
   "source": []
  },
  {
   "cell_type": "code",
   "execution_count": null,
   "id": "ebb85f64-1803-49c3-8e2e-d96ff4ced2e8",
   "metadata": {},
   "outputs": [],
   "source": []
  },
  {
   "cell_type": "code",
   "execution_count": 1,
   "id": "3ab4707d-b0a4-4e48-8525-adbd47bd173a",
   "metadata": {
    "tags": []
   },
   "outputs": [],
   "source": [
    "#INTERMEDIATE LEVEL:"
   ]
  },
  {
   "cell_type": "code",
   "execution_count": 2,
   "id": "2380c977-26ed-4374-9cab-dd3cb8ef7182",
   "metadata": {
    "tags": []
   },
   "outputs": [],
   "source": [
    "#QUESTION 11"
   ]
  },
  {
   "cell_type": "code",
   "execution_count": 3,
   "id": "942c44ef-0cdf-4add-b93f-c061e68f0c98",
   "metadata": {
    "tags": []
   },
   "outputs": [],
   "source": [
    "#WRITE A PROGRAM TO CHECK IF A GIVEN LIST CONTAINS ANY DUPLICATES USING A 'FOR' LOOP"
   ]
  },
  {
   "cell_type": "code",
   "execution_count": 28,
   "id": "796640f3-961d-4cc4-92e9-5b926d3a4a9e",
   "metadata": {
    "tags": []
   },
   "outputs": [
    {
     "name": "stdout",
     "output_type": "stream",
     "text": [
      "The list contains duplicates.\n"
     ]
    }
   ],
   "source": [
    "def check_duplicates(my_list):\n",
    "    for i in range(len(my_list)):\n",
    "        for j in range(i+1,len(my_list)):\n",
    "            if my_list[i] == my_list[j]:\n",
    "                return True\n",
    "    return False\n",
    "my_list = [1,2,3,4,2,5]\n",
    "has_duplicates = check_duplicates(my_list)\n",
    "if has_duplicates:\n",
    "    print(\"The list contains duplicates.\")\n",
    "else:\n",
    "    print(\"The list does not contain duplicates.\")\n",
    "        "
   ]
  },
  {
   "cell_type": "code",
   "execution_count": null,
   "id": "8698716d-faf0-4438-b6cb-e8c1f2c30836",
   "metadata": {
    "tags": []
   },
   "outputs": [],
   "source": []
  },
  {
   "cell_type": "code",
   "execution_count": null,
   "id": "9748266a-cf86-4b70-b60e-ae7cc796669e",
   "metadata": {},
   "outputs": [],
   "source": []
  },
  {
   "cell_type": "code",
   "execution_count": 4,
   "id": "a53cf24e-92a8-48e8-9019-4b345b9c4e51",
   "metadata": {
    "tags": []
   },
   "outputs": [],
   "source": [
    "#QUESTION 12"
   ]
  },
  {
   "cell_type": "code",
   "execution_count": 5,
   "id": "5e22d710-bf73-437a-9150-a8d847333a34",
   "metadata": {
    "tags": []
   },
   "outputs": [],
   "source": [
    "# CREATE A PROGRAM THAT PRINTS THE PRIME NUMBERS IN A GIVEN RANGE USING A 'FOR' LOOP"
   ]
  },
  {
   "cell_type": "code",
   "execution_count": 29,
   "id": "d547652d-e757-4609-b9ab-a9918eca5441",
   "metadata": {
    "tags": []
   },
   "outputs": [
    {
     "name": "stdout",
     "output_type": "stream",
     "text": [
      "5\n",
      "7\n",
      "9\n",
      "11\n",
      "13\n",
      "15\n",
      "17\n",
      "19\n"
     ]
    }
   ],
   "source": [
    "def is_prime(number):\n",
    "    if number<2:\n",
    "        return False \n",
    "    for i in range(2,int(number**0.5)+1):\n",
    "        if number%i==0:\n",
    "            return False \n",
    "        return True\n",
    "def print_prime_numbers(start,end):\n",
    "    for number in range(start,end+1):\n",
    "        if is_prime(number):\n",
    "            print(number)\n",
    "start_num =1\n",
    "end_num = 20\n",
    "print_prime_numbers(start_num,end_num)"
   ]
  },
  {
   "cell_type": "code",
   "execution_count": null,
   "id": "5ece7038-afb0-4615-b0f2-1ac9f86799b9",
   "metadata": {},
   "outputs": [],
   "source": []
  },
  {
   "cell_type": "code",
   "execution_count": null,
   "id": "08cb8453-60b0-44a6-9703-547b1d0b9765",
   "metadata": {},
   "outputs": [],
   "source": []
  },
  {
   "cell_type": "code",
   "execution_count": 6,
   "id": "aec32fc4-a84e-43a3-adb9-e51ab8fdf461",
   "metadata": {
    "tags": []
   },
   "outputs": [],
   "source": [
    "#QUESTION 13"
   ]
  },
  {
   "cell_type": "code",
   "execution_count": 7,
   "id": "7b8d208a-c831-4668-a8c8-5a16bd52c2ac",
   "metadata": {
    "tags": []
   },
   "outputs": [],
   "source": [
    "# DEVELOP A PROGRAM THAT COUNTS THE NUMBER OF VOWELS IN A STRING USING A 'FOR' LOOP"
   ]
  },
  {
   "cell_type": "code",
   "execution_count": 30,
   "id": "2975e5a4-cc68-4e29-a627-a117d273755a",
   "metadata": {
    "tags": []
   },
   "outputs": [
    {
     "name": "stdout",
     "output_type": "stream",
     "text": [
      "The number of vowels in the string is: 3\n"
     ]
    }
   ],
   "source": [
    "def count_vowels(string):\n",
    "    vowels = 'aeiouAEIOU'\n",
    "    count = 0\n",
    "    for char in string:\n",
    "        if char in vowels:\n",
    "            count +=1\n",
    "    return count\n",
    "my_string = \"Hello,World!\"\n",
    "vowel_count = count_vowels(my_string)\n",
    "print(\"The number of vowels in the string is:\",vowel_count)"
   ]
  },
  {
   "cell_type": "code",
   "execution_count": null,
   "id": "3635e026-7016-45af-a0d3-90c242b70114",
   "metadata": {},
   "outputs": [],
   "source": []
  },
  {
   "cell_type": "code",
   "execution_count": null,
   "id": "7d659c8f-6439-451e-8d6d-1039670fb5ec",
   "metadata": {},
   "outputs": [],
   "source": []
  },
  {
   "cell_type": "code",
   "execution_count": 8,
   "id": "7e33e92d-7b22-488b-bafb-efda39fe2a12",
   "metadata": {
    "tags": []
   },
   "outputs": [],
   "source": [
    "# QUESTION 14 "
   ]
  },
  {
   "cell_type": "code",
   "execution_count": 9,
   "id": "8b16a6bf-832e-4498-a222-ab5772a03cfd",
   "metadata": {
    "tags": []
   },
   "outputs": [],
   "source": [
    "# WRITE A PROGRAM TO FIND THE MAXIMUM ELEMENT IN A 2D LIST USING A NESTED 'FOR' LOOP"
   ]
  },
  {
   "cell_type": "code",
   "execution_count": 32,
   "id": "c946b4c3-4c1f-44d7-bb80-91b17c096e49",
   "metadata": {
    "tags": []
   },
   "outputs": [
    {
     "name": "stdout",
     "output_type": "stream",
     "text": [
      "List after removing all occurences of 2 : [1, 3, 4, 5]\n"
     ]
    }
   ],
   "source": [
    "def remove_element_from_list(lst,element):\n",
    "    for item in lst:\n",
    "        if item == element:\n",
    "            lst.remove(item)\n",
    "my_list = [1,2,3,2,4,2,5]\n",
    "specific_element =2\n",
    "remove_element_from_list(my_list,specific_element)\n",
    "print(\"List after removing all occurences of\",specific_element,\":\",my_list)"
   ]
  },
  {
   "cell_type": "code",
   "execution_count": null,
   "id": "7910882b-2a31-40f2-af70-40ba60feb62f",
   "metadata": {},
   "outputs": [],
   "source": []
  },
  {
   "cell_type": "code",
   "execution_count": null,
   "id": "3fe02b16-08d8-49fe-beaf-9002aba9ae96",
   "metadata": {},
   "outputs": [],
   "source": []
  },
  {
   "cell_type": "code",
   "execution_count": 10,
   "id": "0178da90-4731-4f69-8c24-a05fa86e5d50",
   "metadata": {
    "tags": []
   },
   "outputs": [],
   "source": [
    "#QUESTION 15"
   ]
  },
  {
   "cell_type": "code",
   "execution_count": 11,
   "id": "697ec7de-b6f2-4b2f-9869-dabd21c63593",
   "metadata": {
    "tags": []
   },
   "outputs": [],
   "source": [
    "# CREATE A PROGRAM THAT REMOVES ALL OCCURENCES OF A SPECIFIC ELEMENT FROM A LIST USING A 'FOR' LOOP"
   ]
  },
  {
   "cell_type": "code",
   "execution_count": 33,
   "id": "b91f11c8-e393-4242-91b0-3add51f0fc8e",
   "metadata": {
    "tags": []
   },
   "outputs": [
    {
     "name": "stdout",
     "output_type": "stream",
     "text": [
      "List after removing all occurences of 2 : [1, 3, 4, 5]\n"
     ]
    }
   ],
   "source": [
    "def remove_element_from_list(lst,element):\n",
    "    new_list = []\n",
    "    for item in lst:\n",
    "        if item != element:\n",
    "            new_list.append(item)\n",
    "    return new_list\n",
    "my_list = [1,2,3,2,4,2,5]\n",
    "specific_element =2\n",
    "modified_list = remove_element_from_list(my_list,specific_element)\n",
    "print(\"List after removing all occurences of\",specific_element,\":\",modified_list)"
   ]
  },
  {
   "cell_type": "code",
   "execution_count": null,
   "id": "66a3c673-8b66-4bf9-8404-a9c49a5cf901",
   "metadata": {},
   "outputs": [],
   "source": []
  },
  {
   "cell_type": "code",
   "execution_count": null,
   "id": "34ef091f-4a63-4b90-97e5-d68d063b795e",
   "metadata": {},
   "outputs": [],
   "source": []
  },
  {
   "cell_type": "code",
   "execution_count": 12,
   "id": "6a2839b9-3d3a-4d17-9521-f28b82244865",
   "metadata": {
    "tags": []
   },
   "outputs": [],
   "source": [
    "#QUESTION 16"
   ]
  },
  {
   "cell_type": "code",
   "execution_count": 13,
   "id": "17f76cf4-ec56-47e0-9118-f40f319cce90",
   "metadata": {
    "tags": []
   },
   "outputs": [],
   "source": [
    "# DEVELOP A PROGRAM THAT GENERATES A MULTIPLICATION TABLE FOR NUMBERS FROM 1 TO 5 USING A NESTED 'FOR' LOOP"
   ]
  },
  {
   "cell_type": "code",
   "execution_count": 34,
   "id": "e1ab6367-6186-44bf-8eac-3789f1fb2870",
   "metadata": {
    "tags": []
   },
   "outputs": [
    {
     "name": "stdout",
     "output_type": "stream",
     "text": [
      "1 x 1 = 1\n",
      "1 x 2 = 2\n",
      "1 x 3 = 3\n",
      "1 x 4 = 4\n",
      "1 x 5 = 5\n",
      "---------\n",
      "2 x 1 = 2\n",
      "2 x 2 = 4\n",
      "2 x 3 = 6\n",
      "2 x 4 = 8\n",
      "2 x 5 = 10\n",
      "---------\n",
      "3 x 1 = 3\n",
      "3 x 2 = 6\n",
      "3 x 3 = 9\n",
      "3 x 4 = 12\n",
      "3 x 5 = 15\n",
      "---------\n",
      "4 x 1 = 4\n",
      "4 x 2 = 8\n",
      "4 x 3 = 12\n",
      "4 x 4 = 16\n",
      "4 x 5 = 20\n",
      "---------\n",
      "5 x 1 = 5\n",
      "5 x 2 = 10\n",
      "5 x 3 = 15\n",
      "5 x 4 = 20\n",
      "5 x 5 = 25\n",
      "---------\n"
     ]
    }
   ],
   "source": [
    "for i in range(1,6):\n",
    "    for j in range(1,6):\n",
    "        result = i*j\n",
    "        print(i,\"x\",j,\"=\",result)\n",
    "    print(\"---------\")"
   ]
  },
  {
   "cell_type": "code",
   "execution_count": null,
   "id": "91bc32b7-123a-42a1-9c80-c3d71ebaa0c4",
   "metadata": {},
   "outputs": [],
   "source": []
  },
  {
   "cell_type": "code",
   "execution_count": null,
   "id": "e4051451-e119-4161-a575-09fd5e4d6a3e",
   "metadata": {},
   "outputs": [],
   "source": []
  },
  {
   "cell_type": "code",
   "execution_count": 14,
   "id": "33fbd49a-8710-440a-89f0-73f7baf2b722",
   "metadata": {
    "tags": []
   },
   "outputs": [],
   "source": [
    "#QUESTION 17"
   ]
  },
  {
   "cell_type": "code",
   "execution_count": 15,
   "id": "cfea594d-7cfd-421d-9fd6-0f849cc183a3",
   "metadata": {
    "tags": []
   },
   "outputs": [],
   "source": [
    "#WRITE A PROGRAM THAT CONVERTS A LIST OF FAHRENHEIT TEMPERATURES TO CELCIUS USING A 'FOR' LOOP"
   ]
  },
  {
   "cell_type": "code",
   "execution_count": 35,
   "id": "21ac367b-922d-4698-bc33-4606b8d0c748",
   "metadata": {
    "tags": []
   },
   "outputs": [
    {
     "name": "stdout",
     "output_type": "stream",
     "text": [
      "Celsius temperatures: [0.0, 20.0, 30.0, 40.0]\n"
     ]
    }
   ],
   "source": [
    "def convert_to_celsius(fahrenheit_list):\n",
    "    celsius_list = []\n",
    "    for temp in fahrenheit_list:\n",
    "        celsius = (temp - 32)*5/9\n",
    "        celsius_list.append(celsius)\n",
    "    return celsius_list\n",
    "fahrenheit_temperatures = [32,68,86,104]\n",
    "celsius_temperatures = convert_to_celsius(fahrenheit_temperatures)\n",
    "print(\"Celsius temperatures:\",celsius_temperatures)\n",
    "        "
   ]
  },
  {
   "cell_type": "code",
   "execution_count": null,
   "id": "99694f8b-b5fa-4943-9259-7d36421ce1cd",
   "metadata": {},
   "outputs": [],
   "source": []
  },
  {
   "cell_type": "code",
   "execution_count": null,
   "id": "2aac5208-0857-4c34-8c1a-b64ba5211a74",
   "metadata": {},
   "outputs": [],
   "source": []
  },
  {
   "cell_type": "code",
   "execution_count": 16,
   "id": "64ea0a25-8d47-4df4-b172-214a276a34f9",
   "metadata": {
    "tags": []
   },
   "outputs": [],
   "source": [
    "# QUESTION 18"
   ]
  },
  {
   "cell_type": "code",
   "execution_count": 17,
   "id": "5f633ac8-50fe-4b9a-98fe-ba7741197602",
   "metadata": {
    "tags": []
   },
   "outputs": [],
   "source": [
    "# CREATE A PROGRAM TO PRINT THE COMMON ELEMENTS FROM TWO LISTS USING A 'FOR' LOOP"
   ]
  },
  {
   "cell_type": "code",
   "execution_count": 26,
   "id": "3e239327-e853-48d4-81e2-2763042696e0",
   "metadata": {
    "tags": []
   },
   "outputs": [
    {
     "name": "stdout",
     "output_type": "stream",
     "text": [
      "4\n",
      "5\n"
     ]
    }
   ],
   "source": [
    "def print_common_elements(list1,list2):\n",
    "    for element in list1:\n",
    "        if element in list2:\n",
    "            print(element)\n",
    "list_a = [1,2,3,4,5]\n",
    "list_b = [4,5,6,7,8]\n",
    "print_common_elements(list_a,list_b)"
   ]
  },
  {
   "cell_type": "code",
   "execution_count": null,
   "id": "79a0e26b-c81d-4ca1-8e28-be2a3efbd586",
   "metadata": {},
   "outputs": [],
   "source": []
  },
  {
   "cell_type": "code",
   "execution_count": null,
   "id": "d87c7591-55ff-48a2-9289-b678a68ec812",
   "metadata": {},
   "outputs": [],
   "source": []
  },
  {
   "cell_type": "code",
   "execution_count": 19,
   "id": "68b0138e-36fe-4e58-859f-cef501137913",
   "metadata": {
    "tags": []
   },
   "outputs": [],
   "source": [
    "# QUESTION 19"
   ]
  },
  {
   "cell_type": "code",
   "execution_count": 20,
   "id": "cd6a29c7-0d4a-4499-b2d4-57ec255d0d0c",
   "metadata": {
    "tags": []
   },
   "outputs": [],
   "source": [
    "# DEVELOP A PROGRAM THAT PRINTS THE PATTERN OF RIGHT-ANGLED TRIANGLES USING A 'FOR' LOOP. USE '*' TO DRAW THE PATTERN"
   ]
  },
  {
   "cell_type": "code",
   "execution_count": 25,
   "id": "fb4ead05-e67e-4554-952a-5babe6fd1f79",
   "metadata": {
    "tags": []
   },
   "outputs": [
    {
     "name": "stdout",
     "output_type": "stream",
     "text": [
      "*\n",
      "**\n",
      "***\n",
      "****\n",
      "*****\n"
     ]
    }
   ],
   "source": [
    "def print_triangle(n):\n",
    "    for i in range(1,n+1):\n",
    "      print('*'*i)\n",
    "num_rows = 5\n",
    "print_triangle(num_rows)"
   ]
  },
  {
   "cell_type": "code",
   "execution_count": null,
   "id": "2fc9dd21-db5a-42a7-b315-d7fc3f638c5d",
   "metadata": {},
   "outputs": [],
   "source": []
  },
  {
   "cell_type": "code",
   "execution_count": null,
   "id": "d061e771-2032-4f6c-9d1e-51ba9a35aa0a",
   "metadata": {},
   "outputs": [],
   "source": []
  },
  {
   "cell_type": "code",
   "execution_count": 21,
   "id": "def9e52c-dff2-4585-ab5e-b5303437afc8",
   "metadata": {
    "tags": []
   },
   "outputs": [],
   "source": [
    "# QUESTION 20"
   ]
  },
  {
   "cell_type": "code",
   "execution_count": 22,
   "id": "1354bd96-d77c-45b2-b384-03946fea0c13",
   "metadata": {
    "tags": []
   },
   "outputs": [],
   "source": [
    "# WRITE A PROGRAM TO FIND THE GREATEST COMMON DIVISOR(GCD) OF TWO NUMBERS USING A 'FOR' LOOP"
   ]
  },
  {
   "cell_type": "code",
   "execution_count": 23,
   "id": "f4335ad2-92ba-434d-99b4-e36aadbd90d5",
   "metadata": {
    "tags": []
   },
   "outputs": [
    {
     "name": "stdout",
     "output_type": "stream",
     "text": [
      "The GCD of 24 and 36 is 12\n"
     ]
    }
   ],
   "source": [
    "def find_gcd(a,b):\n",
    "    gcd = 1\n",
    "    for i in range(1,min(a,b)+1):\n",
    "        if a%i == 0 and b%i == 0:\n",
    "            gcd = i \n",
    "    return gcd\n",
    "num1 =24\n",
    "num2= 36\n",
    "result = find_gcd(num1,num2)\n",
    "print(\"The GCD of\",num1,\"and\",num2, \"is\",result)"
   ]
  },
  {
   "cell_type": "code",
   "execution_count": null,
   "id": "5f1908dd-046d-4e49-a5a9-79e5ef0852a3",
   "metadata": {},
   "outputs": [],
   "source": []
  },
  {
   "cell_type": "code",
   "execution_count": null,
   "id": "1a28a623-f254-4376-8a62-d816084aeb20",
   "metadata": {},
   "outputs": [],
   "source": []
  },
  {
   "cell_type": "code",
   "execution_count": 1,
   "id": "abcca1e8-826e-493a-b49a-ae164ed612ed",
   "metadata": {
    "tags": []
   },
   "outputs": [],
   "source": [
    "#ADVANCED LEVEL:"
   ]
  },
  {
   "cell_type": "code",
   "execution_count": 2,
   "id": "a97d9486-e7c6-44fe-b038-7f3ed10602d6",
   "metadata": {
    "tags": []
   },
   "outputs": [],
   "source": [
    "#QUESTION 21"
   ]
  },
  {
   "cell_type": "code",
   "execution_count": 3,
   "id": "4d11535d-90bb-4aaa-8076-dca80c302c16",
   "metadata": {
    "tags": []
   },
   "outputs": [],
   "source": [
    "# CREATE A PROGRAM THAT CALCULATES THE SUM OF THE DIGITS OF NUMBERS IN A LIST USING A LIST COMPREHENSION"
   ]
  },
  {
   "cell_type": "code",
   "execution_count": 45,
   "id": "fc9e5950-2f40-4d5b-930b-53fb892be34c",
   "metadata": {
    "tags": []
   },
   "outputs": [
    {
     "name": "stdout",
     "output_type": "stream",
     "text": [
      "Sum of digits for each number: [6, 15, 24]\n"
     ]
    }
   ],
   "source": [
    "numbers=[123,456,789]\n",
    "digit_sums=[sum(int(digit) for digit in str(number)) for number in numbers]\n",
    "print(\"Sum of digits for each number:\",digit_sums)"
   ]
  },
  {
   "cell_type": "code",
   "execution_count": null,
   "id": "b937c15e-b4ac-48c3-bf7a-874396fdc05b",
   "metadata": {},
   "outputs": [],
   "source": []
  },
  {
   "cell_type": "code",
   "execution_count": null,
   "id": "0d127205-d1ce-4f3c-8fb7-d2dae08f23d5",
   "metadata": {},
   "outputs": [],
   "source": []
  },
  {
   "cell_type": "code",
   "execution_count": 4,
   "id": "bd117be2-8d3e-49f0-ab72-642e6e78275c",
   "metadata": {
    "tags": []
   },
   "outputs": [],
   "source": [
    "#QUESTION 22"
   ]
  },
  {
   "cell_type": "code",
   "execution_count": 5,
   "id": "c7b9c61b-236a-4f33-aaa5-c96e09837ca8",
   "metadata": {
    "tags": []
   },
   "outputs": [],
   "source": [
    "# WRITE A PROGRAM TO FIND THE PRIME FACTORS OF A GIVEN NUMBER USING A 'FOR' LOOP AND LIST COMPREHENSION"
   ]
  },
  {
   "cell_type": "code",
   "execution_count": 44,
   "id": "3c86e3fa-03ed-455c-8b0b-663f5b0779df",
   "metadata": {
    "tags": []
   },
   "outputs": [
    {
     "name": "stdout",
     "output_type": "stream",
     "text": [
      "prime factors of 36 are: [2, 3]\n"
     ]
    }
   ],
   "source": [
    "def find_prime_factors(number):\n",
    "    prime_factors=[factor for factor in range(2,number+1)if number%factor==0 and all(factor%i!=0 for i in range(2,int(factor**0.5)+1))]\n",
    "    return prime_factors\n",
    "number = 36\n",
    "prime_factors = find_prime_factors(number)\n",
    "print(\"prime factors of\", number,\"are:\",prime_factors)"
   ]
  },
  {
   "cell_type": "code",
   "execution_count": null,
   "id": "a945f658-be84-4fc0-ae2a-428f203b2cf8",
   "metadata": {},
   "outputs": [],
   "source": []
  },
  {
   "cell_type": "code",
   "execution_count": null,
   "id": "c6273b3c-9d6a-4b38-9cff-1266e793ddfc",
   "metadata": {},
   "outputs": [],
   "source": []
  },
  {
   "cell_type": "code",
   "execution_count": 6,
   "id": "a74aa679-ffab-4b06-bd40-33e95df4d1b2",
   "metadata": {
    "tags": []
   },
   "outputs": [],
   "source": [
    "#QUESTION 23"
   ]
  },
  {
   "cell_type": "code",
   "execution_count": 7,
   "id": "8ebe6ff4-421a-4182-a1af-d8f677921b85",
   "metadata": {
    "tags": []
   },
   "outputs": [],
   "source": [
    "#DDEVELOP A PROGRAM THAT EXTRACTS UNIQUE ELEMENTS FROM A LIST AND STORES THEM IN A NEW LIST USING A LIST COMPHRENSION"
   ]
  },
  {
   "cell_type": "code",
   "execution_count": 43,
   "id": "20dad79c-f54c-4712-982e-622896daa5b4",
   "metadata": {
    "tags": []
   },
   "outputs": [
    {
     "name": "stdout",
     "output_type": "stream",
     "text": [
      "Unique elements: [1, 2, 3, 4, 5, 6]\n"
     ]
    }
   ],
   "source": [
    "original_list = [1,2,3,4,2,3,5,6,1,4]\n",
    "unique_elements=[elem for i, elem in enumerate(original_list) if elem not in original_list[:i]]\n",
    "print(\"Unique elements:\", unique_elements)"
   ]
  },
  {
   "cell_type": "code",
   "execution_count": null,
   "id": "480a395c-b4e9-48f7-b5a7-6159bdd25d1d",
   "metadata": {},
   "outputs": [],
   "source": []
  },
  {
   "cell_type": "code",
   "execution_count": null,
   "id": "7b98d32a-a6f4-4e46-ad43-325deb507f4f",
   "metadata": {},
   "outputs": [],
   "source": []
  },
  {
   "cell_type": "code",
   "execution_count": 9,
   "id": "caeaed5e-ae53-4c53-a970-2f4f3c5b8a67",
   "metadata": {
    "tags": []
   },
   "outputs": [],
   "source": [
    "#QUESTION 24"
   ]
  },
  {
   "cell_type": "code",
   "execution_count": 10,
   "id": "9a743b34-88f7-4078-9d54-7754f9380488",
   "metadata": {
    "tags": []
   },
   "outputs": [],
   "source": [
    "# CREATE A PROGRAM THAT GENRATES A LIST OF ALL PALINDROMIC NUMBERS UP TO A SPECIFIED LIMIT USING A LIST COMPREHENSION"
   ]
  },
  {
   "cell_type": "code",
   "execution_count": 42,
   "id": "eee5d7ce-015c-4dde-a657-13b2ecaac619",
   "metadata": {
    "tags": []
   },
   "outputs": [
    {
     "name": "stdout",
     "output_type": "stream",
     "text": [
      "Palindromic numbers up to  1000 : [0, 1, 2, 3, 4, 5, 6, 7, 8, 9, 11, 22, 33, 44, 55, 66, 77, 88, 99, 101, 111, 121, 131, 141, 151, 161, 171, 181, 191, 202, 212, 222, 232, 242, 252, 262, 272, 282, 292, 303, 313, 323, 333, 343, 353, 363, 373, 383, 393, 404, 414, 424, 434, 444, 454, 464, 474, 484, 494, 505, 515, 525, 535, 545, 555, 565, 575, 585, 595, 606, 616, 626, 636, 646, 656, 666, 676, 686, 696, 707, 717, 727, 737, 747, 757, 767, 777, 787, 797, 808, 818, 828, 838, 848, 858, 868, 878, 888, 898, 909, 919, 929, 939, 949, 959, 969, 979, 989, 999]\n"
     ]
    }
   ],
   "source": [
    "limit =1000\n",
    "palindromic_numbers = [num for num in range(limit)if str(num)==str(num)[::-1]]\n",
    "print(\"Palindromic numbers up to \",limit,\":\", palindromic_numbers)"
   ]
  },
  {
   "cell_type": "code",
   "execution_count": null,
   "id": "aa0ec01a-bae0-4dcb-8226-7ec2e3afa6db",
   "metadata": {},
   "outputs": [],
   "source": []
  },
  {
   "cell_type": "code",
   "execution_count": null,
   "id": "c67c8a7a-497b-46da-862a-4b70c8deb732",
   "metadata": {},
   "outputs": [],
   "source": []
  },
  {
   "cell_type": "code",
   "execution_count": 11,
   "id": "f69c8b25-0e8c-466f-b572-a5f3815f0295",
   "metadata": {
    "tags": []
   },
   "outputs": [],
   "source": [
    "#QUESTION 25"
   ]
  },
  {
   "cell_type": "code",
   "execution_count": 12,
   "id": "7f537c47-f4da-4bdf-b901-50fa525f462c",
   "metadata": {
    "tags": []
   },
   "outputs": [],
   "source": [
    "#WRITE A PROGRAM TO FLATTEN A NESTED LIST USING LIST COMPREHENSION"
   ]
  },
  {
   "cell_type": "code",
   "execution_count": 41,
   "id": "d6b47199-be7a-4c03-8871-f5158b2abf2c",
   "metadata": {
    "tags": []
   },
   "outputs": [
    {
     "name": "stdout",
     "output_type": "stream",
     "text": [
      "Flattened list: [1, 2, 3, 4, 5, 6, 7, 8, 9]\n"
     ]
    }
   ],
   "source": [
    "nested_list =[[1,2,3],[4,5],[6,7,8,9]]\n",
    "flattened_list = [num for sublist in nested_list for num in sublist]\n",
    "print(\"Flattened list:\",flattened_list)"
   ]
  },
  {
   "cell_type": "code",
   "execution_count": null,
   "id": "e562161f-61b5-4cb7-b4a7-2d79c0666bbf",
   "metadata": {},
   "outputs": [],
   "source": []
  },
  {
   "cell_type": "code",
   "execution_count": null,
   "id": "5560aee1-1b4c-4312-9e72-f2874a59f03a",
   "metadata": {},
   "outputs": [],
   "source": []
  },
  {
   "cell_type": "code",
   "execution_count": 13,
   "id": "ed3a7073-0081-4bd5-8f2b-fea22cbe87d7",
   "metadata": {
    "tags": []
   },
   "outputs": [],
   "source": [
    "#QUESTION 26"
   ]
  },
  {
   "cell_type": "code",
   "execution_count": 14,
   "id": "3e1999f7-5af5-45a3-a53b-e4a44a701d79",
   "metadata": {
    "tags": []
   },
   "outputs": [],
   "source": [
    "#DEVELOP A PROGRAM THAT COMPUTERS THE SUM OF EVEN AND ODD NUMBERS IN A LIST SEPARATELY USING LIST COMPHRENSION"
   ]
  },
  {
   "cell_type": "code",
   "execution_count": 40,
   "id": "b426999f-c41b-49f2-91d1-991e5e5a0ebf",
   "metadata": {
    "tags": []
   },
   "outputs": [
    {
     "name": "stdout",
     "output_type": "stream",
     "text": [
      "Sum of even numbers: 30\n",
      "Sum of odd numbers: 25\n"
     ]
    }
   ],
   "source": [
    "numbers=[1,2,3,4,5,6,7,8,9,10]\n",
    "even_sum = sum(num for num in numbers if num%2==0)\n",
    "odd_sum = sum(num for num in numbers if num%2!=0)\n",
    "print(\"Sum of even numbers:\",even_sum)\n",
    "print(\"Sum of odd numbers:\",odd_sum)"
   ]
  },
  {
   "cell_type": "code",
   "execution_count": null,
   "id": "1f84ea21-d4ba-45c6-a43e-acf8e4e279bf",
   "metadata": {},
   "outputs": [],
   "source": []
  },
  {
   "cell_type": "code",
   "execution_count": null,
   "id": "276c6b21-7b7c-4924-9a94-cf14fd14ea56",
   "metadata": {},
   "outputs": [],
   "source": []
  },
  {
   "cell_type": "code",
   "execution_count": 15,
   "id": "f3599c42-09f5-471d-af88-99672526fa4c",
   "metadata": {
    "tags": []
   },
   "outputs": [],
   "source": [
    "#QUESTION 27"
   ]
  },
  {
   "cell_type": "code",
   "execution_count": 16,
   "id": "bee0d155-bd3d-49ed-9129-b097aae550e8",
   "metadata": {
    "tags": []
   },
   "outputs": [],
   "source": [
    "#CREATE A PROGRAM THAT GENRATES A LIST OF SQUARES OF ODD NUMBERS BETWEEN 1 TO 10 USING LIST COMPREHENSION"
   ]
  },
  {
   "cell_type": "code",
   "execution_count": 36,
   "id": "67a996d0-1182-4f31-ac32-1233e90c118a",
   "metadata": {
    "tags": []
   },
   "outputs": [
    {
     "name": "stdout",
     "output_type": "stream",
     "text": [
      "List of squares of odd numbers between 1 and 10: [1, 9, 25, 49, 81]\n"
     ]
    }
   ],
   "source": [
    "squares=[num**2 for num in range(1,11) if num%2!=0]\n",
    "print(\"List of squares of odd numbers between 1 and 10:\",squares)"
   ]
  },
  {
   "cell_type": "code",
   "execution_count": null,
   "id": "ace24a57-6142-43de-9273-423fd021cb43",
   "metadata": {},
   "outputs": [],
   "source": []
  },
  {
   "cell_type": "code",
   "execution_count": null,
   "id": "ef6c3067-702c-4b6b-b18b-59d85841591c",
   "metadata": {},
   "outputs": [],
   "source": []
  },
  {
   "cell_type": "code",
   "execution_count": 17,
   "id": "9ad2bc1c-aa2d-459e-8cb0-fd4b36edcf30",
   "metadata": {
    "tags": []
   },
   "outputs": [],
   "source": [
    "# QUESTION 28"
   ]
  },
  {
   "cell_type": "code",
   "execution_count": 18,
   "id": "e7cb051f-4401-44ab-8083-3ce348aa56cb",
   "metadata": {
    "tags": []
   },
   "outputs": [],
   "source": [
    "# WRITE A PROGRAM THAT COMBINES TWO LISTS INTO A DICTIONARY USING LIST COMPREHENSION"
   ]
  },
  {
   "cell_type": "code",
   "execution_count": 35,
   "id": "1525de99-4785-4730-bdb1-e3f2ba2bbb7c",
   "metadata": {
    "tags": []
   },
   "outputs": [
    {
     "name": "stdout",
     "output_type": "stream",
     "text": [
      "Combined Dictionary: {'name': 'NIKITA', 'age': 19, 'city': 'UTTAR PRADESH'}\n"
     ]
    }
   ],
   "source": [
    "def combine_lists_into_dict(keys,values):\n",
    "    return{keys[i]:values[i] for i in range(min(len(keys),len(values)))}\n",
    "keys = [\"name\",\"age\",\"city\"]\n",
    "values= [\"NIKITA\",19,\"UTTAR PRADESH\"]\n",
    "combined_dict=combine_lists_into_dict(keys,values)\n",
    "print(\"Combined Dictionary:\",combined_dict)"
   ]
  },
  {
   "cell_type": "code",
   "execution_count": null,
   "id": "4483fdcc-873f-4dac-a2c9-8fa8f04e1346",
   "metadata": {},
   "outputs": [],
   "source": []
  },
  {
   "cell_type": "code",
   "execution_count": null,
   "id": "063a0778-b699-4ddc-8a24-a9d29d4ec581",
   "metadata": {},
   "outputs": [],
   "source": []
  },
  {
   "cell_type": "code",
   "execution_count": 19,
   "id": "eb3109eb-4c5c-4bb9-9e9f-23d6165d46f5",
   "metadata": {
    "tags": []
   },
   "outputs": [],
   "source": [
    "# QUESTION 29"
   ]
  },
  {
   "cell_type": "code",
   "execution_count": 20,
   "id": "32eaff4c-cb41-4855-a15d-8593d702bc6e",
   "metadata": {
    "tags": []
   },
   "outputs": [],
   "source": [
    "#DEVELOP A PROGRAM THAT EXTRACTS THE VOWELS FROM A STRING AND STORES THEM IN A LIST USING LIST COMPREHENSION"
   ]
  },
  {
   "cell_type": "code",
   "execution_count": 34,
   "id": "59e67ffe-a15e-4760-bccd-c8d2d748efcb",
   "metadata": {
    "tags": []
   },
   "outputs": [
    {
     "name": "stdout",
     "output_type": "stream",
     "text": [
      "Vowels: ['e', 'o', 'o', 'a', 'e', 'o', 'u']\n"
     ]
    }
   ],
   "source": [
    "def extract_vowels(string):\n",
    "    vowels = ['a','e','i','o','u']\n",
    "    vowel_list = [char for char in string if char.lower() in vowels]\n",
    "    return vowel_list\n",
    "string = \"Hello, how are you?\"\n",
    "vowels=extract_vowels(string)\n",
    "print(\"Vowels:\",vowels)"
   ]
  },
  {
   "cell_type": "code",
   "execution_count": null,
   "id": "c0e699e0-797f-4dc4-9a05-49e637872144",
   "metadata": {},
   "outputs": [],
   "source": []
  },
  {
   "cell_type": "code",
   "execution_count": null,
   "id": "daec1c3a-7574-4717-bfa7-607901eda5ca",
   "metadata": {},
   "outputs": [],
   "source": []
  },
  {
   "cell_type": "code",
   "execution_count": 21,
   "id": "cebf79f5-8a1f-437d-bfb3-a74f6bf533db",
   "metadata": {
    "tags": []
   },
   "outputs": [],
   "source": [
    "#QUESTION 30"
   ]
  },
  {
   "cell_type": "code",
   "execution_count": 22,
   "id": "f52655b4-6149-4e17-87e4-abf011576261",
   "metadata": {
    "tags": []
   },
   "outputs": [],
   "source": [
    "# CREATE A PROGRAM THAT REMOVES ALL NON-NUMERIC CHARACTERS FROM A LIST OF STRINGS USING LIST COMPREHENSION "
   ]
  },
  {
   "cell_type": "code",
   "execution_count": 31,
   "id": "5dddfa14-85e0-4fed-a49b-e72668d0687d",
   "metadata": {
    "tags": []
   },
   "outputs": [
    {
     "name": "stdout",
     "output_type": "stream",
     "text": [
      "Numeric strings: ['123', '456', '789']\n"
     ]
    }
   ],
   "source": [
    "def remove_non_numeric(strings):\n",
    "    return[\"\".join(char for char in string if char.isdigit())for string in strings]\n",
    "strings =[\"abc123\",\"def456\",\"ghi789\"]\n",
    "numeric_strings=remove_non_numeric(strings)\n",
    "print(\"Numeric strings:\",numeric_strings)\n"
   ]
  },
  {
   "cell_type": "code",
   "execution_count": null,
   "id": "b5e67023-116f-427d-92c0-7679e36e0b17",
   "metadata": {},
   "outputs": [],
   "source": []
  },
  {
   "cell_type": "code",
   "execution_count": null,
   "id": "a5f4d2e5-0e61-4ca7-8b7a-00659ebfef9d",
   "metadata": {},
   "outputs": [],
   "source": []
  },
  {
   "cell_type": "code",
   "execution_count": 1,
   "id": "d32f30ea-df7e-40cb-9479-f46471565225",
   "metadata": {
    "tags": []
   },
   "outputs": [],
   "source": [
    "#CHALLENGE LEVEL:"
   ]
  },
  {
   "cell_type": "code",
   "execution_count": 2,
   "id": "1fbb801b-08d4-4a4b-81f0-78d6a01b2fc8",
   "metadata": {
    "tags": []
   },
   "outputs": [],
   "source": [
    "#QUESTION 31"
   ]
  },
  {
   "cell_type": "code",
   "execution_count": 3,
   "id": "1a411db7-2523-4559-9570-35751433195c",
   "metadata": {
    "tags": []
   },
   "outputs": [],
   "source": [
    "#WRITE A PROGRAM TO GENERATE A LIST OF PRIME NUMBERS USING THE SIEVE OF ERATOSTHENES ALGORITH ANND LIST COMPREHENSION"
   ]
  },
  {
   "cell_type": "code",
   "execution_count": 57,
   "id": "48d76f56-77c3-4b8a-9f5e-464c870120ef",
   "metadata": {
    "tags": []
   },
   "outputs": [
    {
     "name": "stdout",
     "output_type": "stream",
     "text": [
      "[2, 3, 5, 7, 11, 13, 17, 19, 23, 29, 31, 37, 41, 43, 47, 53, 59, 61, 67, 71, 73, 79, 83, 89, 97]\n"
     ]
    }
   ],
   "source": [
    "limit = 100\n",
    "sieve = [True]*(limit+1)\n",
    "sieve[0]=sieve[1]=False\n",
    "primes=[num for num in range(2,limit+1) if sieve[num]and all (num%i!=0 for i in range(2,int(num**0.5)+1))]\n",
    "print(primes)"
   ]
  },
  {
   "cell_type": "code",
   "execution_count": null,
   "id": "05113254-ede6-4199-9641-8538c314693f",
   "metadata": {},
   "outputs": [],
   "source": []
  },
  {
   "cell_type": "code",
   "execution_count": null,
   "id": "506825a2-69ed-4234-b4f2-0eca5eeda70b",
   "metadata": {},
   "outputs": [],
   "source": []
  },
  {
   "cell_type": "code",
   "execution_count": 4,
   "id": "5da4b511-9a3c-4bf4-aab4-1274e6ffb4ba",
   "metadata": {
    "tags": []
   },
   "outputs": [],
   "source": [
    "#QUESTION 32"
   ]
  },
  {
   "cell_type": "code",
   "execution_count": 5,
   "id": "db3d023e-c654-49f3-93ed-47a6fc2fb98a",
   "metadata": {
    "tags": []
   },
   "outputs": [],
   "source": [
    "# CREATE A PROGRAM THAT GENERATES A LIST OF ALL PYTHAGOREAN TRIPLETS UPTO UPTO A SPECIFIED LIMIT USING LIST COMPREHENSION"
   ]
  },
  {
   "cell_type": "code",
   "execution_count": 56,
   "id": "8521aa3f-fc69-4aca-8f43-bebd88c7fea0",
   "metadata": {
    "tags": []
   },
   "outputs": [
    {
     "name": "stdout",
     "output_type": "stream",
     "text": [
      "[(3, 4, 5), (6, 8, 10)]\n"
     ]
    }
   ],
   "source": [
    "limit = 10 \n",
    "triplets=[(a,b,c) for c in range(1,limit+1)for b in range(1,c)for a in range(1,b) if a**2+b**2==c**2]\n",
    "print(triplets)"
   ]
  },
  {
   "cell_type": "code",
   "execution_count": null,
   "id": "4082325b-dc27-454d-98bc-d4289d132abc",
   "metadata": {},
   "outputs": [],
   "source": []
  },
  {
   "cell_type": "code",
   "execution_count": null,
   "id": "c3a57847-9e38-4884-b5bf-90a0a114ea71",
   "metadata": {},
   "outputs": [],
   "source": []
  },
  {
   "cell_type": "code",
   "execution_count": 6,
   "id": "0428b798-a340-43e2-a075-960ff5d74870",
   "metadata": {
    "tags": []
   },
   "outputs": [],
   "source": [
    "#QUESTION 33"
   ]
  },
  {
   "cell_type": "code",
   "execution_count": 7,
   "id": "758463a1-4e4c-4451-8d24-8a81d96d2605",
   "metadata": {
    "tags": []
   },
   "outputs": [],
   "source": [
    "#DEVELOP A PROGRAM THAT GENERATES A LIST OF ALL POSSIBLE COMBINATIONS OF TWO LISTS USING LIST COMPREHENSION"
   ]
  },
  {
   "cell_type": "code",
   "execution_count": 53,
   "id": "e6ad55ce-bcfc-44e1-9e90-8ba7d4bc9656",
   "metadata": {
    "tags": []
   },
   "outputs": [
    {
     "name": "stdout",
     "output_type": "stream",
     "text": [
      "[(1, 'a'), (1, 'b'), (1, 'c'), (2, 'a'), (2, 'b'), (2, 'c'), (3, 'a'), (3, 'b'), (3, 'c')]\n"
     ]
    }
   ],
   "source": [
    "list1 =[1,2,3]\n",
    "list2=['a','b','c']\n",
    "combinations = [(x,y)for x in list1 for y in list2]\n",
    "print(combinations)"
   ]
  },
  {
   "cell_type": "code",
   "execution_count": null,
   "id": "b031c52d-a151-4c81-af9d-29c580684a93",
   "metadata": {},
   "outputs": [],
   "source": []
  },
  {
   "cell_type": "code",
   "execution_count": null,
   "id": "1d49c2ed-2e8b-4273-82cd-0d09f32fe06e",
   "metadata": {},
   "outputs": [],
   "source": []
  },
  {
   "cell_type": "code",
   "execution_count": 8,
   "id": "23f3127c-bbc5-44f1-8844-4d8048c94e6e",
   "metadata": {
    "tags": []
   },
   "outputs": [],
   "source": [
    "# QUESTION 34"
   ]
  },
  {
   "cell_type": "code",
   "execution_count": 9,
   "id": "8d03cf12-6606-4563-b266-6f5d64b00d0d",
   "metadata": {
    "tags": []
   },
   "outputs": [],
   "source": [
    "# WRITE A PROGRAM THAT CALCULATES THE MEAN, MEDIAN, AND MODE OF A NUMBERS USING LIST COMPREHENSION"
   ]
  },
  {
   "cell_type": "code",
   "execution_count": 52,
   "id": "7d8063a4-381b-40b7-8cd6-34d921e8d911",
   "metadata": {
    "tags": []
   },
   "outputs": [
    {
     "name": "stdout",
     "output_type": "stream",
     "text": [
      "Mean: 5.166666666666667\n",
      "Median: 5.0\n",
      "Mode: 4\n"
     ]
    }
   ],
   "source": [
    "from statistics import mean, median,mode \n",
    "numbers=[1,2,3,4,4,5,5,6,7,8,8,9]\n",
    "mean_value = mean(numbers)\n",
    "median_value=median(numbers)\n",
    "mode_value=mode(numbers)\n",
    "print(\"Mean:\",mean_value)\n",
    "print(\"Median:\",median_value)\n",
    "print(\"Mode:\",mode_value)"
   ]
  },
  {
   "cell_type": "code",
   "execution_count": null,
   "id": "76bcaace-ab13-49cf-99f9-8e650fe8b569",
   "metadata": {},
   "outputs": [],
   "source": []
  },
  {
   "cell_type": "code",
   "execution_count": null,
   "id": "54305ff0-1ce9-4eb4-9e29-fbebcb3e1a61",
   "metadata": {},
   "outputs": [],
   "source": []
  },
  {
   "cell_type": "code",
   "execution_count": 10,
   "id": "9301e421-3bdc-4363-8a3f-f42b8b26e745",
   "metadata": {
    "tags": []
   },
   "outputs": [],
   "source": [
    "#QUESTION 35"
   ]
  },
  {
   "cell_type": "code",
   "execution_count": 11,
   "id": "ef457385-b04d-42f5-b6bc-70e900b0c544",
   "metadata": {
    "tags": []
   },
   "outputs": [],
   "source": [
    "# CREATE A PROGRAM THAT GENERATES PASCAL'S TRIANGLE UPTO A SPECIFIED NUMBER OF ROWS USING LIST COMPREHENSION"
   ]
  },
  {
   "cell_type": "code",
   "execution_count": 51,
   "id": "9bfa4cbe-5a5f-444f-bf81-7fb4aa6d9230",
   "metadata": {
    "tags": []
   },
   "outputs": [
    {
     "name": "stdout",
     "output_type": "stream",
     "text": [
      "[1]\n",
      "[1, 1]\n",
      "[1, 2, 1]\n",
      "[1, 3, 3, 1]\n",
      "[1, 4, 6, 4, 1]\n"
     ]
    }
   ],
   "source": [
    "def generate_pascals_triangle(num_rows):\n",
    "    triangle = [[1]*(row + 1) for row in range(num_rows)]\n",
    "    for row in range(2,num_rows):\n",
    "        for col in range(1,row):\n",
    "            triangle[row][col]=triangle[row-1][col-1]+triangle[row-1][col]\n",
    "    return triangle\n",
    "num_rows = 5\n",
    "pascals_triangle = generate_pascals_triangle(num_rows)\n",
    "for row in pascals_triangle:\n",
    "    print(row)"
   ]
  },
  {
   "cell_type": "code",
   "execution_count": null,
   "id": "1b7a19e8-2898-48da-8124-8418a507d797",
   "metadata": {},
   "outputs": [],
   "source": []
  },
  {
   "cell_type": "code",
   "execution_count": null,
   "id": "0413ebf7-1d12-43a7-acc7-0621c433cce4",
   "metadata": {},
   "outputs": [],
   "source": []
  },
  {
   "cell_type": "code",
   "execution_count": 12,
   "id": "9585fb6b-6bfb-4932-9d83-7f35cbc7800e",
   "metadata": {
    "tags": []
   },
   "outputs": [],
   "source": [
    "#QUESTION 36"
   ]
  },
  {
   "cell_type": "code",
   "execution_count": 13,
   "id": "9db73608-3f16-405f-addf-8e4d788ae424",
   "metadata": {
    "tags": []
   },
   "outputs": [],
   "source": [
    "#WRITE A PROGRAM THAT CALUCATES THE SUM OF THE DIGITS OF A FACTORIAL OF NUMBERS FROM 1 TO 5 USING LIST COMPREHENSION "
   ]
  },
  {
   "cell_type": "code",
   "execution_count": 29,
   "id": "fa6f8991-7129-4c3d-b832-5cd59ad3a910",
   "metadata": {
    "tags": []
   },
   "outputs": [
    {
     "name": "stdout",
     "output_type": "stream",
     "text": [
      "[1, 2, 6, 6, 3]\n"
     ]
    }
   ],
   "source": [
    "import math\n",
    "sum_of_digits=[sum(int(digit)for digit in str(math.factorial(num)))for num in range(1,6)]\n",
    "print(sum_of_digits)"
   ]
  },
  {
   "cell_type": "code",
   "execution_count": null,
   "id": "21e350bf-a8ee-44df-9614-92f3176a0d99",
   "metadata": {},
   "outputs": [],
   "source": []
  },
  {
   "cell_type": "code",
   "execution_count": null,
   "id": "188ccbe2-effb-4f7d-8ede-746520ed1a62",
   "metadata": {},
   "outputs": [],
   "source": []
  },
  {
   "cell_type": "code",
   "execution_count": 14,
   "id": "cdb668b4-bfe6-4b6b-aebd-32cf28bd539a",
   "metadata": {
    "tags": []
   },
   "outputs": [],
   "source": [
    "#QUESTION 37"
   ]
  },
  {
   "cell_type": "code",
   "execution_count": 15,
   "id": "0f01cba6-2da4-49a2-a9ab-2ad313745674",
   "metadata": {
    "tags": []
   },
   "outputs": [],
   "source": [
    "# WRITE A PROGRAM THAT FINDS THE LONGEST WORD IN A SENTENCE USING LIST COMPREHENSION"
   ]
  },
  {
   "cell_type": "code",
   "execution_count": 27,
   "id": "0a88e350-011d-4a34-9dc2-face91a8138d",
   "metadata": {
    "tags": []
   },
   "outputs": [
    {
     "name": "stdout",
     "output_type": "stream",
     "text": [
      "The longest word in the sentence is: quick\n"
     ]
    }
   ],
   "source": [
    "sentence = \"The quick brown fox jumps over the lazy dog\"\n",
    "words = sentence.split()\n",
    "longest_word = max(words, key = lambda word:len(word))\n",
    "print(\"The longest word in the sentence is:\",longest_word)"
   ]
  },
  {
   "cell_type": "code",
   "execution_count": null,
   "id": "0cf6f1dd-39f2-47e8-8a09-0c9e8a7ff1d0",
   "metadata": {},
   "outputs": [],
   "source": []
  },
  {
   "cell_type": "code",
   "execution_count": null,
   "id": "17e0ee41-fd85-48d4-aba0-64e6df646ffe",
   "metadata": {},
   "outputs": [],
   "source": []
  },
  {
   "cell_type": "code",
   "execution_count": 16,
   "id": "ae6ce2c7-7db2-4236-a26f-7b04b7d7cd88",
   "metadata": {
    "tags": []
   },
   "outputs": [],
   "source": [
    "#QUESTION 38"
   ]
  },
  {
   "cell_type": "code",
   "execution_count": 17,
   "id": "c005408e-5778-401b-8564-a9948d239892",
   "metadata": {
    "tags": []
   },
   "outputs": [],
   "source": [
    "#CREATE  A PROGRAM THAT FILTERS A LIST OF STRINGS TO INCLUDE ONLY THOSE WITH MORE THAN THREE VOWELS USING LIST COMPREHENSION"
   ]
  },
  {
   "cell_type": "code",
   "execution_count": 26,
   "id": "b7134d10-a991-4002-90b0-04ea9de00c86",
   "metadata": {
    "tags": []
   },
   "outputs": [
    {
     "name": "stdout",
     "output_type": "stream",
     "text": [
      "[]\n"
     ]
    }
   ],
   "source": [
    "my_list = ['hello','world','apple','banana','python']\n",
    "filtered_list = [word for word in my_list if sum(1 for char in word if char.lower()in 'aeiou')>3]\n",
    "print(filtered_list)"
   ]
  },
  {
   "cell_type": "code",
   "execution_count": null,
   "id": "e2621504-a06a-497d-8692-7e6f2828142f",
   "metadata": {},
   "outputs": [],
   "source": []
  },
  {
   "cell_type": "code",
   "execution_count": null,
   "id": "4c079442-ee36-4eb3-a67e-ba39f9b3535d",
   "metadata": {},
   "outputs": [],
   "source": []
  },
  {
   "cell_type": "code",
   "execution_count": 18,
   "id": "dd9ff5fe-277f-4d27-9ebd-6edcf86e0c2b",
   "metadata": {
    "tags": []
   },
   "outputs": [],
   "source": [
    "#QUESTION 39"
   ]
  },
  {
   "cell_type": "code",
   "execution_count": 19,
   "id": "4e1736cd-0d50-4034-a51b-511c21cdfd21",
   "metadata": {
    "tags": []
   },
   "outputs": [],
   "source": [
    "#DEVELOP A PROGRAM THAT CALCULATES THE SUM OF THE DIGITS OF THE NUMBERS FROM 1 TO 1000 USING LIST COMPREHENSION "
   ]
  },
  {
   "cell_type": "code",
   "execution_count": 24,
   "id": "17e19dac-c932-4835-97d1-6e838214960a",
   "metadata": {
    "tags": []
   },
   "outputs": [
    {
     "name": "stdout",
     "output_type": "stream",
     "text": [
      "13501\n"
     ]
    }
   ],
   "source": [
    "sum_of_digits = sum([sum([int(digit)for digit in str(num)]) for num in range(1,1001)])\n",
    "print(sum_of_digits)"
   ]
  },
  {
   "cell_type": "code",
   "execution_count": null,
   "id": "45daeefb-1a23-443c-a452-12b47b7a754b",
   "metadata": {},
   "outputs": [],
   "source": []
  },
  {
   "cell_type": "code",
   "execution_count": null,
   "id": "808fbed1-437d-4822-ab98-b875766d882f",
   "metadata": {},
   "outputs": [],
   "source": []
  },
  {
   "cell_type": "code",
   "execution_count": 20,
   "id": "e707f706-e4e5-48ec-9428-39a11abc41bc",
   "metadata": {
    "tags": []
   },
   "outputs": [],
   "source": [
    "# QUESTION 40"
   ]
  },
  {
   "cell_type": "code",
   "execution_count": 21,
   "id": "51c16c27-79c1-4ebd-97d2-c0ac050214e0",
   "metadata": {
    "tags": []
   },
   "outputs": [],
   "source": [
    "# WRITE A PROGRAM THAT GENRATES A LIST OF A PRIME PALINDROMIC NUMBERS USING LIST COMPREHENSION "
   ]
  },
  {
   "cell_type": "code",
   "execution_count": 23,
   "id": "1677b573-0717-4f64-9270-b0addb83080a",
   "metadata": {
    "tags": []
   },
   "outputs": [
    {
     "name": "stdout",
     "output_type": "stream",
     "text": [
      "[5, 7, 9, 11, 33, 55, 77, 99, 101, 111, 121, 131, 141, 151, 161, 171, 181, 191, 303, 313, 323, 333, 343, 353, 363, 373, 383, 393, 505, 515, 525, 535, 545, 555, 565, 575, 585, 595, 707, 717, 727, 737, 747, 757, 767, 777, 787, 797, 909, 919, 929, 939, 949, 959, 969, 979, 989, 999]\n"
     ]
    }
   ],
   "source": [
    "def is_prime(num):\n",
    "    if num<2:\n",
    "        return False \n",
    "    for i in range(2,int(num**0.5)+1):\n",
    "        if num % i==0:\n",
    "            return False\n",
    "        return True\n",
    "def is_palindrome(num):\n",
    "    return str(num)==str(num)[::-1]\n",
    "prime_palindromes=[num for num in range(1,1000)if is_prime(num)and is_palindrome(num)]\n",
    "print(prime_palindromes)"
   ]
  },
  {
   "cell_type": "code",
   "execution_count": null,
   "id": "0e2b980a-a35d-405c-b97a-8421b3e44fe0",
   "metadata": {},
   "outputs": [],
   "source": []
  }
 ],
 "metadata": {
  "kernelspec": {
   "display_name": "Python 3 (ipykernel)",
   "language": "python",
   "name": "python3"
  },
  "language_info": {
   "codemirror_mode": {
    "name": "ipython",
    "version": 3
   },
   "file_extension": ".py",
   "mimetype": "text/x-python",
   "name": "python",
   "nbconvert_exporter": "python",
   "pygments_lexer": "ipython3",
   "version": "3.11.4"
  }
 },
 "nbformat": 4,
 "nbformat_minor": 5
}
